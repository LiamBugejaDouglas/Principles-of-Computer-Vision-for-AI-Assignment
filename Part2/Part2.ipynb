{
 "cells": [
  {
   "cell_type": "markdown",
   "id": "c56bca22",
   "metadata": {},
   "source": [
    "# ARI2129 Assignment - Part 2"
   ]
  },
  {
   "cell_type": "markdown",
   "id": "d2de9dea",
   "metadata": {},
   "source": [
    "## Task A"
   ]
  },
  {
   "cell_type": "markdown",
   "id": "18c64f98",
   "metadata": {},
   "source": [
    "Importing necessary libraries"
   ]
  },
  {
   "cell_type": "code",
   "execution_count": 1,
   "id": "12e3f0fa",
   "metadata": {},
   "outputs": [],
   "source": [
    "import cv2\n",
    "import numpy as np"
   ]
  },
  {
   "cell_type": "markdown",
   "id": "0aacac89",
   "metadata": {},
   "source": [
    "Using compare results function from Part 1 of assignment."
   ]
  },
  {
   "cell_type": "code",
   "execution_count": 2,
   "id": "396b8e60",
   "metadata": {},
   "outputs": [],
   "source": [
    "def CompareResult(blendingResult, s2, metric):\n",
    "    \n",
    "    #Mean Squared Error\n",
    "    if(metric==1):\n",
    "        \n",
    "        error = np.sum((blendingResult.astype(\"float\") - s2.astype(\"float\"))** 2)\n",
    "        error /= float(blendingResult.shape[0] * blendingResult.shape[1])\n",
    "    \n",
    "    #Sum of Squared Distance Error\n",
    "    elif(metric==2):\n",
    "        \n",
    "         error = np.sum((blendingResult-s2)**2)\n",
    "    else:\n",
    "        \n",
    "        print(\"Out of range, please use between 1-2.\")\n",
    "        \n",
    "    return round(error,5)"
   ]
  },
  {
   "cell_type": "markdown",
   "id": "2c533074",
   "metadata": {},
   "source": [
    "6 unique  sets of images can be found in the COTS dataset which include statues, shooter glasses, academic books, footwear. mugs and tech. These were used below."
   ]
  },
  {
   "cell_type": "code",
   "execution_count": 3,
   "id": "6f0b5270",
   "metadata": {},
   "outputs": [],
   "source": [
    "dataset = {} \n",
    "\n",
    "dataset['Academic'] = [cv2.imread(\"images/Part2/A/S2/academic_s2.jpeg\"), cv2.imread(\"images/Part2/A/S1/academic_s1.jpeg\"), cv2.imread(\"images/Part2/A/Mask/academic_mask.png\")] \n",
    "dataset['Footwear'] = [cv2.imread(\"images/Part2/A/S2/footwear_s2.jpeg\"), cv2.imread(\"images/Part2/A/S1/footwear_s1.jpeg\"), cv2.imread(\"images/Part2/A/Mask/footwear_mask.png\")]\n",
    "dataset['Mugs'] = [cv2.imread(\"images/Part2/A/S2/mugs_s2.jpeg\"), cv2.imread(\"images/Part2/A/S1/mugs_s1.jpeg\"), cv2.imread(\"images/Part2/A/Mask/mugs_mask.png\")]\n",
    "dataset['Shooters'] =  [cv2.imread(\"images/Part2/A/S2/shooters_s2.jpeg\"), cv2.imread(\"images/Part2/A/S1/shooters_s1.jpeg\"), cv2.imread(\"images/Part2/A/Mask/shooters_mask.png\")]\n",
    "dataset['Statues'] = [cv2.imread(\"images/Part2/A/S2/statues_s2.jpeg\"), cv2.imread(\"images/Part2/A/S1/statues_s1.jpeg\"), cv2.imread(\"images/Part2/A/Mask/statues_mask.png\")]\n",
    "dataset['Tech'] = [cv2.imread(\"images/Part2/A/S2/tech_s2.jpeg\"), cv2.imread(\"images/Part2/A/S1/tech_s1.jpeg\"), cv2.imread(\"images/Part2/A/Mask/tech_mask.png\")]"
   ]
  },
  {
   "cell_type": "markdown",
   "id": "b415a095",
   "metadata": {},
   "source": [
    "Next we use INPAINT_NS and INPAINT_TELEA for inpainting"
   ]
  },
  {
   "cell_type": "code",
   "execution_count": 4,
   "id": "64fe4d09",
   "metadata": {},
   "outputs": [
    {
     "name": "stdout",
     "output_type": "stream",
     "text": [
      "Academic Set\n",
      "Telea\t Mean Squared Error:  327.18942 \tSum of Squared Distance Error:  59162597\n",
      "NS\t Mean Squared Error:  383.14045 \tSum of Squared Distance Error:  61476765 \n",
      "\n",
      "Footwear Set\n",
      "Telea\t Mean Squared Error:  1513.31067 \tSum of Squared Distance Error:  65274215\n",
      "NS\t Mean Squared Error:  1499.16446 \tSum of Squared Distance Error:  65811729 \n",
      "\n",
      "Mugs Set\n",
      "Telea\t Mean Squared Error:  75.38237 \tSum of Squared Distance Error:  38383500\n",
      "NS\t Mean Squared Error:  84.31249 \tSum of Squared Distance Error:  40576761 \n",
      "\n",
      "Shooters Set\n",
      "Telea\t Mean Squared Error:  58.63603 \tSum of Squared Distance Error:  33363637\n",
      "NS\t Mean Squared Error:  58.5823 \tSum of Squared Distance Error:  33704007 \n",
      "\n",
      "Statues Set\n",
      "Telea\t Mean Squared Error:  454.62424 \tSum of Squared Distance Error:  115180351\n",
      "NS\t Mean Squared Error:  511.26886 \tSum of Squared Distance Error:  115914723 \n",
      "\n",
      "Tech Set\n",
      "Telea\t Mean Squared Error:  118.37106 \tSum of Squared Distance Error:  38996685\n",
      "NS\t Mean Squared Error:  144.83847 \tSum of Squared Distance Error:  40382590 \n",
      "\n"
     ]
    }
   ],
   "source": [
    "for x in dataset.items():\n",
    "        \n",
    "    gray_mask = cv2.cvtColor(x[1][2], cv2.COLOR_BGR2GRAY)\n",
    "        \n",
    "    telea = cv2.inpaint(x[1][0], gray_mask, 20, cv2.INPAINT_TELEA)\n",
    "    ns = cv2.inpaint(x[1][0], gray_mask, 20, cv2.INPAINT_NS)\n",
    "    \n",
    "    print(x[0], \"Set\")\n",
    "    print(\"Telea\\t Mean Squared Error: \", CompareResult(x[1][1], telea, 1), \"\\tSum of Squared Distance Error: \", CompareResult(x[1][1], telea, 2))\n",
    "    print(\"NS\\t Mean Squared Error: \", CompareResult(x[1][1], ns, 1), \"\\tSum of Squared Distance Error: \", CompareResult(x[1][1], ns, 2), \"\\n\")\n",
    "    "
   ]
  },
  {
   "cell_type": "markdown",
   "id": "90489641",
   "metadata": {},
   "source": [
    "## Task B"
   ]
  },
  {
   "cell_type": "markdown",
   "id": "1f6c42e4",
   "metadata": {},
   "source": [
    "Using the same functions above INPAINT_NS and INPAINT_TELEA we found the error value with the newly added images on the COTS dataset whihc have a more complex background with half of them having a wind variation."
   ]
  },
  {
   "cell_type": "code",
   "execution_count": 5,
   "id": "7ffd7c4c",
   "metadata": {},
   "outputs": [],
   "source": [
    "complex_bg = {}\n",
    "\n",
    "complex_bg['Books'] = (cv2.imread(\"images/Part2/B/No_obj/book.jpeg\"), cv2.imread(\"images/Part2/B/Obj/books.jpeg\"), cv2.imread(\"images/Part2/B/Mask/book.png\"))\n",
    "complex_bg['Bottles'] = (cv2.imread(\"images/Part2/B/No_obj/bottle.jpeg\") , cv2.imread(\"images/Part2/B/Obj/bottles.jpeg\"), cv2.imread(\"images/Part2/B/Mask/bottle.png\"))\n",
    "complex_bg['Cups'] = (cv2.imread(\"images/Part2/B/No_obj/cup.jpeg\"), cv2.imread(\"images/Part2/B/Obj/cups.jpeg\"), cv2.imread(\"images/Part2/B/Mask/cup.png\"))\n",
    "complex_bg['Electronics'] = (cv2.imread(\"images/Part2/B/No_obj/electronic.jpeg\"), cv2.imread(\"images/Part2/B/Obj/electronics.jpeg\"), cv2.imread(\"images/Part2/B/Mask/electronic.png\"))\n",
    "complex_bg['Food'] = (cv2.imread(\"images/Part2/B/No_obj/food.jpeg\"), cv2.imread(\"images/Part2/B/Obj/foods.jpeg\"), cv2.imread(\"images/Part2/B/Mask/food.png\"))\n",
    "complex_bg['Souvenirs'] = (cv2.imread(\"images/Part2/B/No_obj/souvenir.jpeg\"), cv2.imread(\"images/Part2/B/Obj/souvenirs.jpeg\"), cv2.imread(\"images/Part2/B/Mask/souvenir.png\"))\n",
    "complex_bg['Statues'] = (cv2.imread(\"images/Part2/B/No_obj/statue.jpeg\"), cv2.imread(\"images/Part2/B/Obj/statues.jpeg\"), cv2.imread(\"images/Part2/B/Mask/statue.png\"))"
   ]
  },
  {
   "cell_type": "code",
   "execution_count": 6,
   "id": "5813b2d5",
   "metadata": {},
   "outputs": [
    {
     "name": "stdout",
     "output_type": "stream",
     "text": [
      "Books Set\n",
      "Telea\t Mean Squared Error:  3591.04359 \tSum of Squared Distance Error:  92773355\n",
      "NS\t Mean Squared Error:  3503.55818 \tSum of Squared Distance Error:  93419638 \n",
      "\n",
      "Bottles Set\n",
      "Telea\t Mean Squared Error:  1727.84588 \tSum of Squared Distance Error:  63950891\n",
      "NS\t Mean Squared Error:  1658.40625 \tSum of Squared Distance Error:  63853952 \n",
      "\n",
      "Cups Set\n",
      "Telea\t Mean Squared Error:  868.50645 \tSum of Squared Distance Error:  124666678\n",
      "NS\t Mean Squared Error:  862.33604 \tSum of Squared Distance Error:  124675777 \n",
      "\n",
      "Electronics Set\n",
      "Telea\t Mean Squared Error:  527.73931 \tSum of Squared Distance Error:  58601351\n",
      "NS\t Mean Squared Error:  465.16518 \tSum of Squared Distance Error:  58672807 \n",
      "\n",
      "Food Set\n",
      "Telea\t Mean Squared Error:  3494.51659 \tSum of Squared Distance Error:  215147450\n",
      "NS\t Mean Squared Error:  3433.0873 \tSum of Squared Distance Error:  214953289 \n",
      "\n",
      "Souvenirs Set\n",
      "Telea\t Mean Squared Error:  3061.59193 \tSum of Squared Distance Error:  73625078\n",
      "NS\t Mean Squared Error:  3091.59063 \tSum of Squared Distance Error:  74080321 \n",
      "\n",
      "Statues Set\n",
      "Telea\t Mean Squared Error:  1735.80848 \tSum of Squared Distance Error:  79182468\n",
      "NS\t Mean Squared Error:  1674.10615 \tSum of Squared Distance Error:  79129895 \n",
      "\n"
     ]
    }
   ],
   "source": [
    "for x in complex_bg.items():\n",
    "        \n",
    "    gray_mask = cv2.cvtColor(x[1][2], cv2.COLOR_BGR2GRAY)\n",
    "        \n",
    "    telea = cv2.inpaint(x[1][0], gray_mask, 20, cv2.INPAINT_TELEA)\n",
    "    ns = cv2.inpaint(x[1][0], gray_mask, 20, cv2.INPAINT_NS)\n",
    "    \n",
    "    print(x[0], \"Set\")\n",
    "    print(\"Telea\\t Mean Squared Error: \", CompareResult(x[1][1], telea, 1), \"\\tSum of Squared Distance Error: \", CompareResult(x[1][1], telea, 2))\n",
    "    print(\"NS\\t Mean Squared Error: \", CompareResult(x[1][1], ns, 1), \"\\tSum of Squared Distance Error: \", CompareResult(x[1][1], ns, 2), \"\\n\")\n",
    "    "
   ]
  },
  {
   "cell_type": "markdown",
   "id": "9574303d",
   "metadata": {},
   "source": [
    "Finally comparing the backgrounds using pre-defined functions from opencv"
   ]
  },
  {
   "cell_type": "code",
   "execution_count": 4,
   "id": "d958af8a",
   "metadata": {},
   "outputs": [],
   "source": [
    "def bg_difference(bg1, bg2):\n",
    "    subtractor = cv2.createBackgroundSubtractorMOG2()\n",
    "    subtracted_mask = subtractor.apply(bg1)\n",
    "    subtracted_mask = subtractor.apply(bg2)\n",
    "\n",
    "    return subtracted_mask\n",
    "\n",
    "books1 = cv2.imread(\"images/Part2/C/bg_difference/books_nw.jpeg\")\n",
    "books2 = cv2.imread(\"images/Part2/C/bg_difference/books_w.jpeg\")\n",
    "\n",
    "bottle1 = cv2.imread(\"images/Part2/C/bg_difference/bottles_nw.jpeg\")\n",
    "bottle2 = cv2.imread(\"images/Part2/C/bg_difference/bottles_w.jpeg\")\n",
    "\n",
    "cups1 = cv2.imread(\"images/Part2/C/bg_difference/cups_nw.jpeg\")\n",
    "cups2 = cv2.imread(\"images/Part2/C/bg_difference/cups_w.jpeg\")\n",
    "\n",
    "elec1 = cv2.imread(\"images/Part2/C/bg_difference/elect_nw.jpeg\")\n",
    "elec2 = cv2.imread(\"images/Part2/C/bg_difference/elect_w.jpeg\")\n",
    "\n",
    "statues1 = cv2.imread(\"images/Part2/C/bg_difference/statues_nw.jpeg\")\n",
    "statues2 = cv2.imread(\"images/Part2/C/bg_difference/statues_w.jpeg\")\n",
    "\n",
    "cv2.imshow(\"Books Background Difference\", bg_difference(books1, books2))\n",
    "cv2.waitKey(0)\n",
    "cv2.destroyAllWindows()\n",
    "\n",
    "cv2.imshow(\"Bottles Background Difference\", bg_difference(bottle1, bottle2))\n",
    "cv2.waitKey(0)\n",
    "cv2.destroyAllWindows()\n",
    "\n",
    "cv2.imshow(\"Cups Background Difference\", bg_difference(cups1, cups2))\n",
    "cv2.waitKey(0)\n",
    "cv2.destroyAllWindows()\n",
    "\n",
    "cv2.imshow(\"Electronics Background Difference\", bg_difference(elec1, elec2))\n",
    "cv2.waitKey(0)\n",
    "cv2.destroyAllWindows()\n",
    "\n",
    "cv2.imshow(\"Statues Background Difference\", bg_difference(statues1, statues2))\n",
    "cv2.waitKey(0)\n",
    "cv2.destroyAllWindows()"
   ]
  },
  {
   "cell_type": "code",
   "execution_count": null,
   "id": "140179aa",
   "metadata": {},
   "outputs": [],
   "source": []
  }
 ],
 "metadata": {
  "kernelspec": {
   "display_name": "Python 3 (ipykernel)",
   "language": "python",
   "name": "python3"
  },
  "language_info": {
   "codemirror_mode": {
    "name": "ipython",
    "version": 3
   },
   "file_extension": ".py",
   "mimetype": "text/x-python",
   "name": "python",
   "nbconvert_exporter": "python",
   "pygments_lexer": "ipython3",
   "version": "3.9.7"
  }
 },
 "nbformat": 4,
 "nbformat_minor": 5
}
